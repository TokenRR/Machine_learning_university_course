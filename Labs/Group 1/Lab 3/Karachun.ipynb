{
 "cells": [
  {
   "cell_type": "code",
   "execution_count": null,
   "metadata": {},
   "outputs": [],
   "source": [
    "from sklearn.model_selection import train_test_split\n",
    "from sklearn import tree\n",
    "from sklearn.tree import DecisionTreeClassifier\n",
    "from sklearn.tree import export_graphviz\n",
    "\n",
    "from sklearn.metrics import accuracy_score\n",
    "from sklearn.metrics import precision_score\n",
    "from sklearn.metrics import recall_score\n",
    "from sklearn.metrics import f1_score\n",
    "from sklearn.metrics import classification_report\n",
    "from sklearn.metrics import confusion_matrix\n",
    "\n",
    "import scikitplot as skplt\n",
    "\n",
    "import matplotlib.pyplot as plt\n",
    "import graphviz\n",
    "import pandas as pd\n"
   ]
  },
  {
   "cell_type": "code",
   "execution_count": null,
   "metadata": {},
   "outputs": [],
   "source": [
    "print('1)')\n",
    "df = pd.read_csv('wq-r.csv', delimiter=';')\n",
    "print(f'1) Дані:\\n{df}\\n')"
   ]
  },
  {
   "cell_type": "code",
   "execution_count": null,
   "metadata": {},
   "outputs": [],
   "source": [
    "print('2)')\n",
    "print(f'Кількість записів: {df.shape[0]}')\n",
    "print(f'Кількість полів: {df.shape[1]}')"
   ]
  },
  {
   "cell_type": "code",
   "execution_count": null,
   "metadata": {},
   "outputs": [],
   "source": [
    "print('3)')\n",
    "print(df.head(10))"
   ]
  },
  {
   "cell_type": "code",
   "execution_count": null,
   "metadata": {},
   "outputs": [],
   "source": [
    "print('4)')\n",
    "X = df.drop('quality', axis=1)   # вихідні аргументи (усі стовпчики, окрім останнього)\n",
    "y = df['quality']   # цільова характеристика (останній стовпець)\n",
    "X_train, X_test, y_train, y_test = train_test_split(X, y, test_size=0.2, random_state=0)"
   ]
  },
  {
   "cell_type": "code",
   "execution_count": null,
   "metadata": {},
   "outputs": [],
   "source": [
    "print('5)')\n",
    "def classify(X, y, criterion='gini', max_depth=None, min_samples_leaf=2, random_state=0):\n",
    "    clf = tree.DecisionTreeClassifier(criterion=criterion,\n",
    "                                      max_depth=max_depth,\n",
    "                                      min_samples_leaf=min_samples_leaf,\n",
    "                                      random_state=random_state)\n",
    "    \n",
    "    return clf.fit(X, y)\n",
    "\n",
    "# інформаційний приріст на основі неоднорідності Джині\n",
    "clf_gini = classify(X_train, y_train, criterion='gini', max_depth=5)\n",
    "\n",
    "# інформаційний приріст на основі ентропії\n",
    "clf_entropy = classify(X_train, y_train, criterion='entropy', max_depth=5)"
   ]
  },
  {
   "cell_type": "code",
   "execution_count": null,
   "metadata": {},
   "outputs": [],
   "source": [
    "print('6)')\n",
    "dot_data = tree.export_graphviz(clf_gini, out_file=None) \n",
    "graph = graphviz.Source(dot_data) \n",
    "graph.view('decision tree')   # створення файлу з деревом та його відкриття"
   ]
  },
  {
   "cell_type": "code",
   "execution_count": null,
   "metadata": {},
   "outputs": [],
   "source": [
    "print('7)')\n",
    "pred_test_gini = clf_gini.predict(X_test)\n",
    "pred_test_entropy = clf_entropy.predict(X_test)\n",
    "\n",
    "pred_train_gini = clf_gini.predict(X_train)\n",
    "pred_train_entropy = clf_entropy.predict(X_train)\n",
    "\n",
    "\n",
    "# класифікаційні метрики для тестової вибірки (неоднорідность Джині)\n",
    "\n",
    "accuracy_gini = accuracy_score(y_test, pred_test_gini)                                    # влучність\n",
    "precision_gini = precision_score(y_test, pred_test_gini, average=None, zero_division=1)   # точність\n",
    "recall_gini = recall_score(y_test, pred_test_gini, average=None)                          # повнота\n",
    "f1_gini = f1_score(y_test, pred_test_gini, average=None)                                  # F-міра\n",
    "# f1 = 2 * precision * recall / (precision + recall)\n",
    "\n",
    "print(f'Test, gini:\\nAccuracy: {accuracy_gini}\\nPrecision: {precision_gini}\\nRecall: {recall_gini}\\nf1: {f1_gini}\\n')\n",
    "\n",
    "\n",
    "# класифікаційні метрики для тестової вибірки (ентропія)\n",
    "\n",
    "accuracy_entropy = accuracy_score(y_test, pred_test_entropy)\n",
    "precision_entropy = precision_score(y_test, pred_test_entropy, average=None, zero_division=1)\n",
    "recall_entropy = recall_score(y_test, pred_test_entropy, average=None)\n",
    "f1_entropy = f1_score(y_test, pred_test_entropy, average=None)\n",
    "\n",
    "print(f'Test, entropy:\\nAccuracy: {accuracy_entropy}\\nPrecision: {precision_entropy}\\nRecall: {recall_entropy}\\nf1: {f1_entropy}\\n')\n",
    "\n",
    "\n",
    "# класифікаційні метрики для тренувальної вибірки (неоднорідность Джині)\n",
    "\n",
    "accuracy_gini = accuracy_score(y_train, pred_train_gini)\n",
    "precision_gini = precision_score(y_train, pred_train_gini, average=None, zero_division=1)\n",
    "recall_gini = recall_score(y_train, pred_train_gini, average=None)\n",
    "f1_gini = f1_score(y_train, pred_train_gini, average=None)\n",
    "\n",
    "print(f'Train, gini:\\nAccuracy: {accuracy_gini}\\nPrecision: {precision_gini}\\nRecall: {recall_gini}\\nf1: {f1_gini}\\n')\n",
    "\n",
    "\n",
    "# класифікаційні метрики для тренувальної вибірки (ентропія)\n",
    "\n",
    "accuracy_entropy = accuracy_score(y_train, pred_train_entropy)\n",
    "precision_entropy = precision_score(y_train, pred_train_entropy, average=None, zero_division=1)\n",
    "recall_entropy = recall_score(y_train, pred_train_entropy, average=None)\n",
    "f1_entropy = f1_score(y_train, pred_train_entropy, average=None)\n",
    "\n",
    "print(f'Train, entropy:\\nAccuracy: {accuracy_entropy}\\nPrecision: {precision_entropy}\\nRecall: {recall_entropy}\\nf1: {f1_entropy}\\n')\n",
    "\n",
    "\n",
    "print(f'Classification report (test gini):\\n{classification_report(y_test, pred_test_gini, zero_division=1)}\\n')\n",
    "print(f'Classification report (train gini):\\n{classification_report(y_train, pred_train_gini, zero_division=1)}\\n')\n",
    "print(f'Classification report (test entropy):\\n{classification_report(y_test, pred_test_entropy, zero_division=1)}\\n')\n",
    "print(f'Classification report (train entropy):\\n{classification_report(y_train, pred_train_entropy, zero_division=1)}\\n')\n",
    "\n",
    "\n",
    "# порівняння результатів роботи моделі та цільових значень\n",
    "\n",
    "input('Натисніть Enter для того, щоб побачити графік порівняння роботи моделі та цільових значень\\n')\n",
    "\n",
    "fig, ax = plt.subplots()\n",
    "ax.set_title('Результати роботи моделі')\n",
    "ax.set_xlabel('Індекс')\n",
    "ax.set_ylabel('Якість')\n",
    "ax.plot(pred_test_gini, label='Результат роботи моделі')\n",
    "ax.plot(y_test.to_numpy(), label='Цільова характеристика')\n",
    "ax.legend(loc='lower right')\n",
    "plt.show()\n",
    "\n",
    "\n",
    "# порівняння результатів при застосуванні різних критеріїв розщеплення\n",
    "\n",
    "input('Натисніть Enter для того, щоб побачити графік порівняння результатів при застосуванні різних критеріїв розщеплення\\n')\n",
    "\n",
    "fig, ax = plt.subplots()\n",
    "ax.set_title('Результати роботи моделі')\n",
    "ax.set_xlabel('Індекс')\n",
    "ax.set_ylabel('Якість')\n",
    "ax.plot(pred_test_gini, label='Неоднорідність Джині')\n",
    "ax.plot(pred_test_entropy, label='Ентропія')\n",
    "ax.legend(loc='lower right')\n",
    "plt.show()\n",
    "\n",
    "# 7 visualization\n",
    "\n",
    "input('Натисніть Enter для того, щоб вивести матриці помилок\\n')\n",
    "\n",
    "fig = plt.figure()\n",
    "\n",
    "# матриця помилок (тестова вибірка, неоднорідність Джині)\n",
    "ax1 = fig.add_subplot(221)\n",
    "skplt.metrics.plot_confusion_matrix(pred_test_gini, y_test, title='Test gini', cmap='Oranges', ax=ax1)\n",
    "\n",
    "# матриця помилок (тестова вибірка, ентропія)\n",
    "ax2 = fig.add_subplot(222)\n",
    "skplt.metrics.plot_confusion_matrix(pred_test_entropy, y_test, title='Test entropy', cmap='Greens', ax=ax2)\n",
    "\n",
    "# матриця помилок (тренувальна вибірка, неоднорідність Джині)\n",
    "ax3 = fig.add_subplot(223)\n",
    "skplt.metrics.plot_confusion_matrix(pred_train_gini, y_train, title='Train gini', cmap='Oranges', ax=ax3)\n",
    "\n",
    "# матриця помилок (тренувальна вибірка, ентропія)\n",
    "ax4 = fig.add_subplot(224)\n",
    "skplt.metrics.plot_confusion_matrix(pred_train_entropy, y_train, title='Train entropy', cmap='Greens', ax=ax4)\n",
    "\n",
    "plt.show()\n",
    "\n",
    "# всі можливі ROC криві\n",
    "\n",
    "input('Натисніть Enter для того, щоб вивести графіки ROC кривих\\n')\n",
    "\n",
    "skplt.metrics.plot_roc(y_test, clf_gini.predict_proba(X_test), title='ROC крива (тестова вибірка, неоднорідність Джині)')\n",
    "skplt.metrics.plot_roc(y_train, clf_gini.predict_proba(X_train), title='ROC крива (тренувальна вибірка, неоднорідність Джині)')\n",
    "skplt.metrics.plot_roc(y_test, clf_entropy.predict_proba(X_test), title='ROC крива (тестова вибірка, ентропія)')\n",
    "skplt.metrics.plot_roc(y_train, clf_entropy.predict_proba(X_train), title='ROC крива (тренувальна вибірка, ентропія)')\n",
    "\n",
    "plt.show()\n",
    "\n",
    "\n",
    "# всі можливі Precision-Recall криві\n",
    "\n",
    "input('Натисніть Enter для того, щоб вивести графіки Precision Recall кривих\\n')\n",
    "\n",
    "skplt.metrics.plot_precision_recall(y_test, clf_gini.predict_proba(X_test), title='Precision-Recall крива (тестова вибірка, неоднорідність Джині)')\n",
    "skplt.metrics.plot_precision_recall(y_train, clf_gini.predict_proba(X_train), title='Precision-Recall крива (тренувальна вибірка, неоднорідність Джині)')\n",
    "skplt.metrics.plot_precision_recall(y_test, clf_entropy.predict_proba(X_test), title='Precision-Recall крива (тестова вибірка, ентропія)')\n",
    "skplt.metrics.plot_precision_recall(y_train, clf_entropy.predict_proba(X_train), title='Precision-Recall крива (тренувальна вибірка, ентропія)')\n",
    "\n",
    "plt.show()"
   ]
  },
  {
   "cell_type": "code",
   "execution_count": 16,
   "metadata": {},
   "outputs": [
    {
     "name": "stdout",
     "output_type": "stream",
     "text": [
      "8)\n"
     ]
    }
   ],
   "source": [
    "print('8)')"
   ]
  },
  {
   "cell_type": "code",
   "execution_count": 17,
   "metadata": {},
   "outputs": [
    {
     "name": "stdout",
     "output_type": "stream",
     "text": [
      "9)\n"
     ]
    },
    {
     "data": {
      "image/png": "[encoded data removed]",
      "text/plain": [
       "<Figure size 640x480 with 1 Axes>"
      ]
     },
     "metadata": {},
     "output_type": "display_data"
    }
   ],
   "source": [
    "print('9)')\n",
    "# важливість атрибутів\n",
    "\n",
    "input('Натисніть Enter для того, щоб вивести графік важливості атрибутів\\n')\n",
    "\n",
    "importances = clf_gini.feature_importances_\n",
    "\n",
    "fig, ax = plt.subplots()\n",
    "ax.bar(df.drop('quality', axis=1).columns, importances)\n",
    "plt.xticks(rotation=30)\n",
    "ax.set_title('Feature importances')\n",
    "ax.set_xlabel('Features')\n",
    "plt.show()"
   ]
  }
 ],
 "metadata": {
  "kernelspec": {
   "display_name": "ML_env",
   "language": "python",
   "name": "python3"
  },
  "language_info": {
   "codemirror_mode": {
    "name": "ipython",
    "version": 3
   },
   "file_extension": ".py",
   "mimetype": "text/x-python",
   "name": "python",
   "nbconvert_exporter": "python",
   "pygments_lexer": "ipython3",
   "version": "3.9.7"
  },
  "orig_nbformat": 4
 },
 "nbformat": 4,
 "nbformat_minor": 2
}
